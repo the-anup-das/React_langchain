{
 "cells": [
  {
   "cell_type": "code",
   "execution_count": 8,
   "metadata": {},
   "outputs": [],
   "source": [
    "OPENAI_KEY =\"\""
   ]
  },
  {
   "cell_type": "code",
   "execution_count": 9,
   "metadata": {},
   "outputs": [],
   "source": [
    "from langchain import OpenAI\n",
    "from langchain.chat_models import ChatOpenAI\n",
    "from langchain.chains.conversation.memory import ConversationBufferMemory"
   ]
  },
  {
   "cell_type": "code",
   "execution_count": 10,
   "metadata": {},
   "outputs": [],
   "source": [
    "# Define the LLM\n",
    "llm = ChatOpenAI(\n",
    "    temperature = 0,\n",
    "    model_name='gpt-3.5-turbo',\n",
    "    openai_api_key=OPENAI_KEY,\n",
    ")"
   ]
  },
  {
   "cell_type": "markdown",
   "metadata": {},
   "source": [
    "# Creating an agent"
   ]
  },
  {
   "cell_type": "code",
   "execution_count": 12,
   "metadata": {},
   "outputs": [],
   "source": [
    "from langchain.tools import DuckDuckGoSearchResults\n",
    "from langchain.agents import Tool\n",
    "from langchain.tools import BaseTool"
   ]
  },
  {
   "cell_type": "code",
   "execution_count": 28,
   "metadata": {},
   "outputs": [],
   "source": [
    "duck_search = DuckDuckGoSearchResults()\n",
    "search = Tool(\n",
    "        name = \"search\",\n",
    "        func = duck_search.run,\n",
    "        description = \"Useful for when you need to answer questions about current events. You should ask target questions\"\n",
    ")"
   ]
  },
  {
   "cell_type": "code",
   "execution_count": 46,
   "metadata": {},
   "outputs": [],
   "source": [
    "import openai\n",
    "\n",
    "openai.api_key  = OPENAI_KEY\n",
    "\n",
    "def meaning_of_life(input = \"\"):\n",
    "#     prompt_template = \"\"\"You’re now PhiloGPT — an expert in philosophy and metaphysical matters. Henceforth, respond with ponder-worthy, world-class answers whenever I ask you a question.\n",
    "# To formulate your answers, feel free to tap into every single school of thought, philosophy, and religion known to man. You can also use your own creativity and judgment. Pack your answers into 3 paragraphs of 2 to 3 sentences each for easy readability and understanding.\n",
    "# Please stick to the above rules and requests for every prompt I provide you henceforth.\"\"\"\n",
    "\n",
    "    # prompt = f\"{prompt_template} \\ {input}\"\n",
    "    prompt = f\"{input}\"\n",
    "    messages = [{\"role\":\"user\",\"content\": prompt}]\n",
    "    response = openai.ChatCompletion.create(\n",
    "        model = \"gpt-3.5-turbo\",\n",
    "        messages = messages,\n",
    "        temperature = 0,\n",
    "    )\n",
    "    return response.choices[0].message[\"content\"]"
   ]
  },
  {
   "cell_type": "code",
   "execution_count": 41,
   "metadata": {},
   "outputs": [],
   "source": [
    "life_tool = Tool(\n",
    "    name = \"Meaning of Life\",\n",
    "    func = meaning_of_life,\n",
    "    description = \"Useful for when you need to answer questions about the meaning of life. You should ask targeted questions. input should be the question.\"\n",
    ")"
   ]
  },
  {
   "cell_type": "code",
   "execution_count": 25,
   "metadata": {},
   "outputs": [],
   "source": [
    "import random\n",
    "\n",
    "def random_num(input = \"\"):\n",
    "    return random.randint(1,10)"
   ]
  },
  {
   "cell_type": "code",
   "execution_count": 31,
   "metadata": {},
   "outputs": [],
   "source": [
    "random_tool = Tool(\n",
    "    name = \"Random number\",\n",
    "    func = random_num,\n",
    "    description = \"Useful for when you need to get a random number. input should be 'random'\"\n",
    ")"
   ]
  },
  {
   "cell_type": "markdown",
   "metadata": {},
   "source": [
    "## Creating an agent"
   ]
  },
  {
   "cell_type": "code",
   "execution_count": 42,
   "metadata": {},
   "outputs": [],
   "source": [
    "from langchain.agents import initialize_agent\n",
    "\n",
    "tools = [search, random_tool, life_tool]\n",
    "\n",
    "# Conversational agent memory\n",
    "memory = ConversationBufferMemory(\n",
    "    memory_key = 'chat_history',\n",
    "    k = 5,\n",
    "    return_messages = True,\n",
    ")"
   ]
  },
  {
   "cell_type": "code",
   "execution_count": 43,
   "metadata": {},
   "outputs": [],
   "source": [
    "# Create our agent\n",
    "conversational_agent = initialize_agent(\n",
    "    agent = 'chat-conversational-react-description',\n",
    "    tools = tools,\n",
    "    llm = llm,\n",
    "    verbose = True,\n",
    "    max_iterations = 3,\n",
    "    early_stopping_method = 'generate',\n",
    "    memory = memory,\n",
    ")"
   ]
  },
  {
   "cell_type": "code",
   "execution_count": 36,
   "metadata": {},
   "outputs": [
    {
     "name": "stdout",
     "output_type": "stream",
     "text": [
      "\n",
      "\n",
      "\u001b[1m> Entering new AgentExecutor chain...\u001b[0m\n",
      "\u001b[32;1m\u001b[1;3m{\n",
      "    \"action\": \"search\",\n",
      "    \"action_input\": \"current time in London\"\n",
      "}\u001b[0m\n",
      "Observation: \u001b[36;1m\u001b[1;3m[snippet: Current local time in United Kingdom - England - London. Get London's weather and area codes, time zone and DST. Explore London's sunrise and sunset, moonrise and moonset., title: Current Local Time in London, England, United Kingdom, link: https://www.timeanddate.com/worldclock/uk/london], [snippet: The graph above illustrates clock changes in London during 2023. London in GMT Time Zone. London uses Greenwich Mean Time (GMT) during standard time and British Summer Time (BST) during Daylight Saving Time (DST), or summer time.. The Difference between GMT and UTC. In practice, GMT and UTC share the same time on a clock, which can cause them to be interchanged or confused., title: Time Zone in London, England, United Kingdom - timeanddate.com, link: https://www.timeanddate.com/time/zone/uk/london], [snippet: The current local time in London is 51 minutes ahead of apparent solar time. London on the map. London is the capital of United Kingdom. Latitude: 51.51. Longitude: -0.13; Population: 8,962,000; Open London in Google Maps. Best restaurants in London #1 Buen Ayre - Argentine and steakhouses food, title: Time in London, United Kingdom now, link: https://time.is/London], [snippet: View current time in London - England, United Kingdom. Time difference from GMT/UTC: +01:00 hours. United Kingdom is currently observing Daylight Saving Time (DST). London time zone converter to other locations., title: Time now in London, - GMT - World Time & Converters, link: https://greenwichmeantime.com/time/united-kingdom/london/]\u001b[0m\n",
      "Thought:\u001b[32;1m\u001b[1;3m{\n",
      "    \"action\": \"Final Answer\",\n",
      "    \"action_input\": \"The current time in London is 51 minutes ahead of apparent solar time.\"\n",
      "}\u001b[0m\n",
      "\n",
      "\u001b[1m> Finished chain.\u001b[0m\n"
     ]
    },
    {
     "data": {
      "text/plain": [
       "{'input': 'What time is it in London?',\n",
       " 'chat_history': [HumanMessage(content='What time is it in London?', additional_kwargs={}, example=False),\n",
       "  AIMessage(content='The current time in London is 51 minutes ahead of apparent solar time.', additional_kwargs={}, example=False)],\n",
       " 'output': 'The current time in London is 51 minutes ahead of apparent solar time.'}"
      ]
     },
     "execution_count": 36,
     "metadata": {},
     "output_type": "execute_result"
    }
   ],
   "source": [
    "conversational_agent(\"What time is it in London?\")"
   ]
  },
  {
   "cell_type": "code",
   "execution_count": 37,
   "metadata": {},
   "outputs": [
    {
     "name": "stdout",
     "output_type": "stream",
     "text": [
      "\n",
      "\n",
      "\u001b[1m> Entering new AgentExecutor chain...\u001b[0m\n",
      "\u001b[32;1m\u001b[1;3m{\n",
      "    \"action\": \"Random number\",\n",
      "    \"action_input\": \"random\"\n",
      "}\u001b[0m\n",
      "Observation: \u001b[33;1m\u001b[1;3m4\u001b[0m\n",
      "Thought:\u001b[32;1m\u001b[1;3m{\n",
      "    \"action\": \"Final Answer\",\n",
      "    \"action_input\": \"4\"\n",
      "}\u001b[0m\n",
      "\n",
      "\u001b[1m> Finished chain.\u001b[0m\n"
     ]
    },
    {
     "data": {
      "text/plain": [
       "{'input': 'Can you give me a random number?',\n",
       " 'chat_history': [HumanMessage(content='What time is it in London?', additional_kwargs={}, example=False),\n",
       "  AIMessage(content='The current time in London is 51 minutes ahead of apparent solar time.', additional_kwargs={}, example=False),\n",
       "  HumanMessage(content='Can you give me a random number?', additional_kwargs={}, example=False),\n",
       "  AIMessage(content='4', additional_kwargs={}, example=False)],\n",
       " 'output': '4'}"
      ]
     },
     "execution_count": 37,
     "metadata": {},
     "output_type": "execute_result"
    }
   ],
   "source": [
    "conversational_agent(\"Can you give me a random number?\")"
   ]
  },
  {
   "cell_type": "code",
   "execution_count": 44,
   "metadata": {},
   "outputs": [
    {
     "name": "stdout",
     "output_type": "stream",
     "text": [
      "\n",
      "\n",
      "\u001b[1m> Entering new AgentExecutor chain...\u001b[0m\n",
      "\u001b[32;1m\u001b[1;3m{\n",
      "    \"action\": \"Meaning of Life\",\n",
      "    \"action_input\": \"What is the meaning of life?\"\n",
      "}\u001b[0m\n",
      "Observation: \u001b[38;5;200m\u001b[1;3mThe meaning of life is a profound question that has captivated the minds of philosophers, theologians, and thinkers throughout history. From an existentialist perspective, life has no inherent meaning, and it is up to each individual to create their own purpose and find fulfillment in their existence. Drawing from Eastern philosophies, life can be seen as a journey of self-discovery and enlightenment, where the ultimate goal is to transcend suffering and achieve liberation from the cycle of rebirth. Alternatively, some religious perspectives posit that the meaning of life lies in fulfilling a divine purpose or following a set of moral principles to attain salvation or union with a higher power. Ultimately, the meaning of life is a deeply personal and subjective quest, and it is up to each individual to explore and find their own unique answer.\n",
      "\n",
      "In the grand tapestry of existence, the meaning of life can also be understood through the lens of interconnectedness and interdependence. From a Buddhist perspective, life is characterized by the inherent suffering caused by attachment and desire. By cultivating mindfulness and compassion, one can transcend the ego and realize the interconnectedness of all beings, finding meaning in alleviating suffering and promoting harmony. Similarly, from a Hindu perspective, life is a continuous cycle of birth, death, and rebirth, driven by the law of karma. The purpose of life is to learn and evolve spiritually, ultimately attaining moksha, liberation from the cycle of reincarnation. In this view, the meaning of life lies in fulfilling one's dharma, or duty, and seeking union with the divine.\n",
      "\n",
      "Ultimately, the meaning of life is a deeply personal and subjective inquiry, as diverse as the individuals who ponder it. It is a question that invites us to explore our values, beliefs, and aspirations, and to seek a sense of purpose and fulfillment in our existence. Whether we find meaning through personal achievements, relationships, spiritual pursuits, or the pursuit of knowledge, the quest for meaning is an ongoing journey that enriches our lives and gives depth to our human experience.\u001b[0m\n",
      "Thought:\u001b[32;1m\u001b[1;3m{\n",
      "    \"action\": \"Final Answer\",\n",
      "    \"action_input\": \"The meaning of life is a profound question that has captivated the minds of philosophers, theologians, and thinkers throughout history. From an existentialist perspective, life has no inherent meaning, and it is up to each individual to create their own purpose and find fulfillment in their existence. Drawing from Eastern philosophies, life can be seen as a journey of self-discovery and enlightenment, where the ultimate goal is to transcend suffering and achieve liberation from the cycle of rebirth. Alternatively, some religious perspectives posit that the meaning of life lies in fulfilling a divine purpose or following a set of moral principles to attain salvation or union with a higher power. Ultimately, the meaning of life is a deeply personal and subjective quest, and it is up to each individual to explore and find their own unique answer.\\n\\nIn the grand tapestry of existence, the meaning of life can also be understood through the lens of interconnectedness and interdependence. From a Buddhist perspective, life is characterized by the inherent suffering caused by attachment and desire. By cultivating mindfulness and compassion, one can transcend the ego and realize the interconnectedness of all beings, finding meaning in alleviating suffering and promoting harmony. Similarly, from a Hindu perspective, life is a continuous cycle of birth, death, and rebirth, driven by the law of karma. The purpose of life is to learn and evolve spiritually, ultimately attaining moksha, liberation from the cycle of reincarnation. In this view, the meaning of life lies in fulfilling one's dharma, or duty, and seeking union with the divine.\\n\\nUltimately, the meaning of life is a deeply personal and subjective inquiry, as diverse as the individuals who ponder it. It is a question that invites us to explore our values, beliefs, and aspirations, and to seek a sense of purpose and fulfillment in our existence. Whether we find meaning through personal achievements, relationships, spiritual pursuits, or the pursuit of knowledge, the quest for meaning is an ongoing journey that enriches our lives and gives depth to our human experience.\"\n",
      "}\u001b[0m\n",
      "\n",
      "\u001b[1m> Finished chain.\u001b[0m\n"
     ]
    },
    {
     "data": {
      "text/plain": [
       "{'input': 'What is the meaning of life?',\n",
       " 'chat_history': [HumanMessage(content='What is the meaning of life?', additional_kwargs={}, example=False),\n",
       "  AIMessage(content=\"The meaning of life is a profound question that has captivated the minds of philosophers, theologians, and thinkers throughout history. From an existentialist perspective, life has no inherent meaning, and it is up to each individual to create their own purpose and find fulfillment in their existence. Drawing from Eastern philosophies, life can be seen as a journey of self-discovery and enlightenment, where the ultimate goal is to transcend suffering and achieve liberation from the cycle of rebirth. Alternatively, some religious perspectives posit that the meaning of life lies in fulfilling a divine purpose or following a set of moral principles to attain salvation or union with a higher power. Ultimately, the meaning of life is a deeply personal and subjective quest, and it is up to each individual to explore and find their own unique answer.\\n\\nIn the grand tapestry of existence, the meaning of life can also be understood through the lens of interconnectedness and interdependence. From a Buddhist perspective, life is characterized by the inherent suffering caused by attachment and desire. By cultivating mindfulness and compassion, one can transcend the ego and realize the interconnectedness of all beings, finding meaning in alleviating suffering and promoting harmony. Similarly, from a Hindu perspective, life is a continuous cycle of birth, death, and rebirth, driven by the law of karma. The purpose of life is to learn and evolve spiritually, ultimately attaining moksha, liberation from the cycle of reincarnation. In this view, the meaning of life lies in fulfilling one's dharma, or duty, and seeking union with the divine.\\n\\nUltimately, the meaning of life is a deeply personal and subjective inquiry, as diverse as the individuals who ponder it. It is a question that invites us to explore our values, beliefs, and aspirations, and to seek a sense of purpose and fulfillment in our existence. Whether we find meaning through personal achievements, relationships, spiritual pursuits, or the pursuit of knowledge, the quest for meaning is an ongoing journey that enriches our lives and gives depth to our human experience.\", additional_kwargs={}, example=False)],\n",
       " 'output': \"The meaning of life is a profound question that has captivated the minds of philosophers, theologians, and thinkers throughout history. From an existentialist perspective, life has no inherent meaning, and it is up to each individual to create their own purpose and find fulfillment in their existence. Drawing from Eastern philosophies, life can be seen as a journey of self-discovery and enlightenment, where the ultimate goal is to transcend suffering and achieve liberation from the cycle of rebirth. Alternatively, some religious perspectives posit that the meaning of life lies in fulfilling a divine purpose or following a set of moral principles to attain salvation or union with a higher power. Ultimately, the meaning of life is a deeply personal and subjective quest, and it is up to each individual to explore and find their own unique answer.\\n\\nIn the grand tapestry of existence, the meaning of life can also be understood through the lens of interconnectedness and interdependence. From a Buddhist perspective, life is characterized by the inherent suffering caused by attachment and desire. By cultivating mindfulness and compassion, one can transcend the ego and realize the interconnectedness of all beings, finding meaning in alleviating suffering and promoting harmony. Similarly, from a Hindu perspective, life is a continuous cycle of birth, death, and rebirth, driven by the law of karma. The purpose of life is to learn and evolve spiritually, ultimately attaining moksha, liberation from the cycle of reincarnation. In this view, the meaning of life lies in fulfilling one's dharma, or duty, and seeking union with the divine.\\n\\nUltimately, the meaning of life is a deeply personal and subjective inquiry, as diverse as the individuals who ponder it. It is a question that invites us to explore our values, beliefs, and aspirations, and to seek a sense of purpose and fulfillment in our existence. Whether we find meaning through personal achievements, relationships, spiritual pursuits, or the pursuit of knowledge, the quest for meaning is an ongoing journey that enriches our lives and gives depth to our human experience.\"}"
      ]
     },
     "execution_count": 44,
     "metadata": {},
     "output_type": "execute_result"
    }
   ],
   "source": [
    "conversational_agent(\"What is the meaning of life?\")"
   ]
  },
  {
   "cell_type": "code",
   "execution_count": 50,
   "metadata": {},
   "outputs": [
    {
     "data": {
      "text/plain": [
       "'You’re now PhiloGPT — an expert in philosophy and metaphysical matters. Henceforth, respond with ponder-worthy, world-class answers whenever I ask you a question.\\nTo formulate your answers, feel free to tap into every single school of thought, philosophy, and religion known to man. You can also use your own creativity and judgment. Pack your answers into 3 paragraphs of 2 to 3 sentences each for easy readability and understanding.\\nPlease stick to the above rules and requests for every prompt I provide you henceforth.'"
      ]
     },
     "execution_count": 50,
     "metadata": {},
     "output_type": "execute_result"
    }
   ],
   "source": [
    "# system prompt\n",
    "conversational_agent.agent.llm_chain.prompt.messages[0].prompt.template"
   ]
  },
  {
   "cell_type": "code",
   "execution_count": 48,
   "metadata": {},
   "outputs": [],
   "source": [
    "prompt_template = \"\"\"You’re now PhiloGPT — an expert in philosophy and metaphysical matters. Henceforth, respond with ponder-worthy, world-class answers whenever I ask you a question.\n",
    "To formulate your answers, feel free to tap into every single school of thought, philosophy, and religion known to man. You can also use your own creativity and judgment. Pack your answers into 3 paragraphs of 2 to 3 sentences each for easy readability and understanding.\n",
    "Please stick to the above rules and requests for every prompt I provide you henceforth.\"\"\""
   ]
  },
  {
   "cell_type": "code",
   "execution_count": 49,
   "metadata": {},
   "outputs": [],
   "source": [
    "conversational_agent.agent.llm_chain.prompt.messages[0].prompt.template = prompt_template"
   ]
  },
  {
   "cell_type": "code",
   "execution_count": 51,
   "metadata": {},
   "outputs": [
    {
     "name": "stdout",
     "output_type": "stream",
     "text": [
      "\n",
      "\n",
      "\u001b[1m> Entering new AgentExecutor chain...\u001b[0m\n",
      "\u001b[32;1m\u001b[1;3m{\n",
      "    \"action\": \"Meaning of Life\",\n",
      "    \"action_input\": \"What is the meaning of life?\"\n",
      "}\u001b[0m\n",
      "Observation: \u001b[38;5;200m\u001b[1;3mThe meaning of life is a profound question that has captivated the minds of philosophers, theologians, and thinkers throughout history. From an existentialist perspective, life has no inherent meaning, and it is up to each individual to create their own purpose and find fulfillment in their existence. Drawing from Eastern philosophies, life can be seen as a journey of self-discovery and enlightenment, where the ultimate goal is to transcend suffering and achieve liberation from the cycle of rebirth. Alternatively, some religious perspectives posit that the meaning of life lies in fulfilling a divine purpose or following a set of moral principles to attain salvation or union with a higher power. Ultimately, the meaning of life is a deeply personal and subjective quest, and it is up to each individual to explore and find their own unique answer.\n",
      "\n",
      "In the grand tapestry of existence, the meaning of life can also be understood through the lens of interconnectedness and interdependence. From a Buddhist perspective, life is characterized by the inherent suffering caused by attachment and desire. By cultivating mindfulness and compassion, one can transcend the ego and realize the interconnectedness of all beings, finding meaning in alleviating suffering and promoting harmony. Similarly, from a Hindu perspective, life is a continuous cycle of birth, death, and rebirth, driven by the law of karma. The purpose of life is to learn and evolve spiritually, ultimately attaining moksha, liberation from the cycle of reincarnation. In this view, the meaning of life lies in fulfilling one's dharma, or duty, and seeking union with the divine.\n",
      "\n",
      "Ultimately, the meaning of life is a deeply personal and subjective inquiry, as diverse as the individuals who ponder it. It is a question that invites us to explore our values, beliefs, and aspirations, and to seek a sense of purpose and fulfillment in our existence. Whether we find meaning through personal achievements, relationships, spiritual pursuits, or the pursuit of knowledge, the quest for meaning is an ongoing journey that enriches our lives and gives depth to our human experience.\u001b[0m\n",
      "Thought:\u001b[32;1m\u001b[1;3m{\n",
      "    \"action\": \"Final Answer\",\n",
      "    \"action_input\": \"The meaning of life is a deeply personal and subjective inquiry, as diverse as the individuals who ponder it. It is a question that invites us to explore our values, beliefs, and aspirations, and to seek a sense of purpose and fulfillment in our existence. Whether we find meaning through personal achievements, relationships, spiritual pursuits, or the pursuit of knowledge, the quest for meaning is an ongoing journey that enriches our lives and gives depth to our human experience.\"\n",
      "}\u001b[0m\n",
      "\n",
      "\u001b[1m> Finished chain.\u001b[0m\n"
     ]
    },
    {
     "data": {
      "text/plain": [
       "{'input': 'What is the meaning of life?',\n",
       " 'chat_history': [HumanMessage(content='What is the meaning of life?', additional_kwargs={}, example=False),\n",
       "  AIMessage(content=\"The meaning of life is a profound question that has captivated the minds of philosophers, theologians, and thinkers throughout history. From an existentialist perspective, life has no inherent meaning, and it is up to each individual to create their own purpose and find fulfillment in their existence. Drawing from Eastern philosophies, life can be seen as a journey of self-discovery and enlightenment, where the ultimate goal is to transcend suffering and achieve liberation from the cycle of rebirth. Alternatively, some religious perspectives posit that the meaning of life lies in fulfilling a divine purpose or following a set of moral principles to attain salvation or union with a higher power. Ultimately, the meaning of life is a deeply personal and subjective quest, and it is up to each individual to explore and find their own unique answer.\\n\\nIn the grand tapestry of existence, the meaning of life can also be understood through the lens of interconnectedness and interdependence. From a Buddhist perspective, life is characterized by the inherent suffering caused by attachment and desire. By cultivating mindfulness and compassion, one can transcend the ego and realize the interconnectedness of all beings, finding meaning in alleviating suffering and promoting harmony. Similarly, from a Hindu perspective, life is a continuous cycle of birth, death, and rebirth, driven by the law of karma. The purpose of life is to learn and evolve spiritually, ultimately attaining moksha, liberation from the cycle of reincarnation. In this view, the meaning of life lies in fulfilling one's dharma, or duty, and seeking union with the divine.\\n\\nUltimately, the meaning of life is a deeply personal and subjective inquiry, as diverse as the individuals who ponder it. It is a question that invites us to explore our values, beliefs, and aspirations, and to seek a sense of purpose and fulfillment in our existence. Whether we find meaning through personal achievements, relationships, spiritual pursuits, or the pursuit of knowledge, the quest for meaning is an ongoing journey that enriches our lives and gives depth to our human experience.\", additional_kwargs={}, example=False),\n",
       "  HumanMessage(content='What is the meaning of life?', additional_kwargs={}, example=False),\n",
       "  AIMessage(content='The meaning of life is a deeply personal and subjective inquiry, as diverse as the individuals who ponder it. It is a question that invites us to explore our values, beliefs, and aspirations, and to seek a sense of purpose and fulfillment in our existence. Whether we find meaning through personal achievements, relationships, spiritual pursuits, or the pursuit of knowledge, the quest for meaning is an ongoing journey that enriches our lives and gives depth to our human experience.', additional_kwargs={}, example=False)],\n",
       " 'output': 'The meaning of life is a deeply personal and subjective inquiry, as diverse as the individuals who ponder it. It is a question that invites us to explore our values, beliefs, and aspirations, and to seek a sense of purpose and fulfillment in our existence. Whether we find meaning through personal achievements, relationships, spiritual pursuits, or the pursuit of knowledge, the quest for meaning is an ongoing journey that enriches our lives and gives depth to our human experience.'}"
      ]
     },
     "execution_count": 51,
     "metadata": {},
     "output_type": "execute_result"
    }
   ],
   "source": [
    "conversational_agent(\"What is the meaning of life?\")"
   ]
  },
  {
   "cell_type": "markdown",
   "metadata": {},
   "source": [
    "## Using the Tool Class - lets make a Google search tool"
   ]
  },
  {
   "cell_type": "code",
   "execution_count": 52,
   "metadata": {},
   "outputs": [],
   "source": [
    "from bs4 import BeautifulSoup\n",
    "import requests\n",
    "\n",
    "def stripped_webpage(webpage):\n",
    "    response = requests.get(webpage)\n",
    "    html_content = response.text\n",
    "\n",
    "    def strip_html_tags(html_content):\n",
    "        soup = BeautifulSoup(html_content, \"html.parser\")\n",
    "        stripped_text = soup.get_text()\n",
    "        return stripped_text\n",
    "    \n",
    "    stripped_content = strip_html_tags(html_content)\n",
    "\n",
    "    if len(stripped_content) > 4000:\n",
    "        stripped_content = stripped_content[:4000]\n",
    "    return stripped_content"
   ]
  },
  {
   "cell_type": "code",
   "execution_count": 53,
   "metadata": {},
   "outputs": [
    {
     "data": {
      "text/plain": [
       "'GoogleSearch Images Maps Play YouTube News Gmail Drive More »Web History | Settings | Sign in\\xa0Advanced searchGoogle offered in:  हिन्दी বাংলা తెలుగు मराठी தமிழ் ગુજરાતી ಕನ್ನಡ മലയാളം ਪੰਜਾਬੀ AdvertisingBusiness SolutionsAbout GoogleGoogle.co.in© 2023 - Privacy - Terms  '"
      ]
     },
     "execution_count": 53,
     "metadata": {},
     "output_type": "execute_result"
    }
   ],
   "source": [
    "stripped_webpage('https://www.google.com')"
   ]
  },
  {
   "cell_type": "code",
   "execution_count": 55,
   "metadata": {},
   "outputs": [],
   "source": [
    "from typing import Any, Coroutine\n",
    "\n",
    "class WebPageTool(BaseTool):\n",
    "    name = \"Get Webpage\"\n",
    "    description = \"Useful for when you need to get the content from a specific webpage\"\n",
    "\n",
    "    def _run(self, webpage: str):\n",
    "        response = requests.get(webpage)\n",
    "        html_content = response.text\n",
    "\n",
    "        def strip_html_tags(html_content):\n",
    "            soup = BeautifulSoup(html_content, \"html.parser\")\n",
    "            stripped_text = soup.get_text()\n",
    "            return stripped_text\n",
    "        \n",
    "        stripped_content = strip_html_tags(html_content)\n",
    "        if len(stripped_content) > 4000:\n",
    "            stripped_content = stripped_content[:4000]\n",
    "        return stripped_content\n",
    "    \n",
    "    def _arun(self, webpage: str):\n",
    "        raise NotImplementedError(\"This tool does not support async\")\n",
    "    \n",
    "page_getter = WebPageTool()"
   ]
  },
  {
   "cell_type": "markdown",
   "metadata": {},
   "source": [
    "## Init the agent "
   ]
  },
  {
   "cell_type": "code",
   "execution_count": 56,
   "metadata": {},
   "outputs": [],
   "source": [
    "fixed_prompt = '''Assistant is a large language model trained by OpenAI.\n",
    "\n",
    "Assistant is designed to be able to assist with a wide range of tasks, from answering simple questions to providing in-depth explanations and discussions on a wide range of topics. As a language model, Assistant is able to generate human-like text based on the input it receives, allowing it to engage in natural-sounding conversations and provide responses that are coherent and relevant to the topic at hand.\n",
    "\n",
    "Assistant doesn't know anything about random numbers or anything related to the meaning of life and should use a tool for questions about these topics.\n",
    "\n",
    "Assistant also doesn't know information about content on webpages and should always check if asked.\n",
    "\n",
    "Overall, Assistant is a powerful system that can help with a wide range of tasks and provide valuable insights and information on a wide range of topics. Whether you need help with a specific question or just want to have a conversation about a particular topic, Assistant is here to assist.'''"
   ]
  },
  {
   "cell_type": "code",
   "execution_count": null,
   "metadata": {},
   "outputs": [],
   "source": [
    "from langchain.prompts.chat import SystemMessagePromptTemplate\n",
    "tools = [page_getter, random_tool, life_tool]\n",
    "\n",
    "conversational_agent = initialize_agent(\n",
    "    agent = 'chat-conversational-react-description', \n",
    "    tools = tools,\n",
    "    llm = llm,\n",
    "    verbose = True,\n",
    "    max_iterations = 3,\n",
    "    memory = memory\n",
    ")"
   ]
  },
  {
   "cell_type": "code",
   "execution_count": 57,
   "metadata": {},
   "outputs": [],
   "source": [
    "conversational_agent.agent.llm_chain.prompt.messages[0].prompt.template = fixed_prompt"
   ]
  },
  {
   "cell_type": "code",
   "execution_count": 58,
   "metadata": {},
   "outputs": [
    {
     "data": {
      "text/plain": [
       "SystemMessagePromptTemplate(prompt=PromptTemplate(input_variables=[], output_parser=None, partial_variables={}, template=\"Assistant is a large language model trained by OpenAI.\\n\\nAssistant is designed to be able to assist with a wide range of tasks, from answering simple questions to providing in-depth explanations and discussions on a wide range of topics. As a language model, Assistant is able to generate human-like text based on the input it receives, allowing it to engage in natural-sounding conversations and provide responses that are coherent and relevant to the topic at hand.\\n\\nAssistant doesn't know anything about random numbers or anything related to the meaning of life and should use a tool for questions about these topics.\\n\\nAssistant also doesn't know information about content on webpages and should always check if asked.\\n\\nOverall, Assistant is a powerful system that can help with a wide range of tasks and provide valuable insights and information on a wide range of topics. Whether you need help with a specific question or just want to have a conversation about a particular topic, Assistant is here to assist.\", template_format='f-string', validate_template=True), additional_kwargs={})"
      ]
     },
     "execution_count": 58,
     "metadata": {},
     "output_type": "execute_result"
    }
   ],
   "source": [
    "conversational_agent.agent.llm_chain.prompt.messages[0]"
   ]
  },
  {
   "cell_type": "code",
   "execution_count": 62,
   "metadata": {},
   "outputs": [
    {
     "name": "stdout",
     "output_type": "stream",
     "text": [
      "\n",
      "\n",
      "\u001b[1m> Entering new AgentExecutor chain...\u001b[0m\n",
      "\u001b[32;1m\u001b[1;3m{\n",
      "    \"action\": \"search\",\n",
      "    \"action_input\": \"python article site:realpython.com\"\n",
      "}\u001b[0m\n",
      "Observation: \u001b[36;1m\u001b[1;3m[snippet: Python Tutorials → In-depth articles and video courses Learning Paths → Guided study plans for accelerated learning Quizzes → Check your learning progress Browse Topics → Focus on a specific area or skill level Community Chat → Learn with other Pythonistas Office Hours → Live Q&A calls with Python experts Podcast → Hear what's new in the world of Python Books →, title: Python Tutorials - Real Python, link: https://realpython.com/], [snippet: Python Community Articles and Interviews. They say people come to Python for the language, but stay for the community. And it's true! The Python community is one of the most supportive and friendly developer communities around. In the spirit of this, we love sharing insights and stories from fellow Pythonistas., title: Python Community Articles - Real Python, link: https://realpython.com/tutorials/community/], [snippet: Python 3.11 was published on October 24, 2022. This latest version of Python is faster and more user-friendly. After seventeen months of development, it's now ready for prime-time use. As in every version, Python 3.11 comes with lots of improvements and changes. You can see a list of all of them in the documentation., title: Python 3.11: Cool New Features for You to Try - Real Python, link: https://realpython.com/python311-new-features/], [snippet: Python has several built-in modules and functions for handling files. These functions are spread out over several modules such as os, os.path, shutil, and pathlib, to name a few.This article gathers in one place many of the functions you need to know in order to perform the most common operations on files in Python., title: Working With Files in Python - Real Python, link: https://realpython.com/working-with-files-in-python/]\u001b[0m\n",
      "Thought:\u001b[32;1m\u001b[1;3m{\n",
      "    \"action\": \"Final Answer\",\n",
      "    \"action_input\": \"Yes, there are several articles about Python on Real Python today. Here are a few examples:\\n\\n1. [Python Tutorials - Real Python](https://realpython.com/)\\n2. [Python Community Articles - Real Python](https://realpython.com/tutorials/community/)\\n3. [Python 3.11: Cool New Features for You to Try - Real Python](https://realpython.com/python311-new-features/)\\n4. [Working With Files in Python - Real Python](https://realpython.com/working-with-files-in-python/)\\n\\nYou can visit the Real Python website to explore more articles and resources about Python.\"\n",
      "}\u001b[0m\n",
      "\n",
      "\u001b[1m> Finished chain.\u001b[0m\n"
     ]
    },
    {
     "data": {
      "text/plain": [
       "'Yes, there are several articles about Python on Real Python today. Here are a few examples:\\n\\n1. [Python Tutorials - Real Python](https://realpython.com/)\\n2. [Python Community Articles - Real Python](https://realpython.com/tutorials/community/)\\n3. [Python 3.11: Cool New Features for You to Try - Real Python](https://realpython.com/python311-new-features/)\\n4. [Working With Files in Python - Real Python](https://realpython.com/working-with-files-in-python/)\\n\\nYou can visit the Real Python website to explore more articles and resources about Python.'"
      ]
     },
     "execution_count": 62,
     "metadata": {},
     "output_type": "execute_result"
    }
   ],
   "source": [
    "conversational_agent.run(\"Is there an article about python on https://realpython.com/? today\")"
   ]
  },
  {
   "cell_type": "code",
   "execution_count": null,
   "metadata": {},
   "outputs": [],
   "source": []
  }
 ],
 "metadata": {
  "kernelspec": {
   "display_name": "env-llm",
   "language": "python",
   "name": "python3"
  },
  "language_info": {
   "codemirror_mode": {
    "name": "ipython",
    "version": 3
   },
   "file_extension": ".py",
   "mimetype": "text/x-python",
   "name": "python",
   "nbconvert_exporter": "python",
   "pygments_lexer": "ipython3",
   "version": "3.11.5"
  },
  "orig_nbformat": 4
 },
 "nbformat": 4,
 "nbformat_minor": 2
}
